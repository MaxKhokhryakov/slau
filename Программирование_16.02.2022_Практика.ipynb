{
 "cells": [
  {
   "cell_type": "markdown",
   "id": "c8cdddb2",
   "metadata": {},
   "source": [
    "### 1 Способ: Решение СЛАУ с помощью numpy\n"
   ]
  },
  {
   "cell_type": "code",
   "execution_count": 1,
   "id": "e10a3234",
   "metadata": {},
   "outputs": [
    {
     "name": "stdout",
     "output_type": "stream",
     "text": [
      "X =  [-2.38106371  0.53886616  2.35797779]\n"
     ]
    }
   ],
   "source": [
    "import numpy as np\n",
    "A = np.array([[10, 15, 16],[24, 54, 56],[76, 8, 94]])\n",
    "B = np.array([22, 104, 45])\n",
    "X = np.linalg.solve(A, B)\n",
    "print('X = ', X)"
   ]
  },
  {
   "cell_type": "markdown",
   "id": "721f7272",
   "metadata": {},
   "source": [
    "### 2 Способ\n"
   ]
  },
  {
   "cell_type": "code",
   "execution_count": null,
   "id": "8ff95c1e",
   "metadata": {},
   "outputs": [],
   "source": []
  },
  {
   "cell_type": "markdown",
   "id": "7dcbdd9e",
   "metadata": {},
   "source": [
    "### 3 Способ\n"
   ]
  },
  {
   "cell_type": "code",
   "execution_count": null,
   "id": "3b5d3d6c",
   "metadata": {},
   "outputs": [],
   "source": []
  }
 ],
 "metadata": {
  "kernelspec": {
   "display_name": "Python 3 (ipykernel)",
   "language": "python",
   "name": "python3"
  },
  "language_info": {
   "codemirror_mode": {
    "name": "ipython",
    "version": 3
   },
   "file_extension": ".py",
   "mimetype": "text/x-python",
   "name": "python",
   "nbconvert_exporter": "python",
   "pygments_lexer": "ipython3",
   "version": "3.9.7"
  }
 },
 "nbformat": 4,
 "nbformat_minor": 5
}
