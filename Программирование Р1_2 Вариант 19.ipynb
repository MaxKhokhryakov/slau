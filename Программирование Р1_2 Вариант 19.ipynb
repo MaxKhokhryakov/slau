{
 "cells": [
  {
   "cell_type": "code",
   "execution_count": 4,
   "id": "ae519165",
   "metadata": {},
   "outputs": [
    {
     "name": "stdout",
     "output_type": "stream",
     "text": [
      "[0, -6, -5, -4, -4]\n"
     ]
    }
   ],
   "source": [
    "import sys\n",
    "\n",
    "\n",
    "class MatrixError(Exception):\n",
    "    pass\n",
    "\n",
    "\n",
    "def forward(matrix, D):\n",
    "    n = len(matrix)\n",
    "    A = [0 for _ in range(n)]\n",
    "    B = [0 for _ in range(n)]\n",
    "    b = matrix[0][0]\n",
    "    c = matrix[0][1]\n",
    "    d = D[0]\n",
    "    A[0] = -c / b\n",
    "    B[0] = d / b\n",
    "    for i in range(1, n - 1):\n",
    "        a = matrix[i][i - 1]\n",
    "        b = matrix[i][i]\n",
    "        c = matrix[i][i + 1]\n",
    "        d = D[i]\n",
    "        A[i] = -c / (b + a * A[i - 1])\n",
    "        B[i] = (d - a * B[i - 1]) / (b + a * A[i - 1])\n",
    "    A[n - 1] = 0\n",
    "    a = matrix[n - 1][n - 2]\n",
    "    b = matrix[n - 1][n - 1]\n",
    "    d = D[n - 1]\n",
    "    B[n - 1] = (d - a * B[n - 2]) / (b + a * A[n - 2])\n",
    "    return A, B\n",
    "\n",
    "\n",
    "def back(A, B):\n",
    "    n = len(A)\n",
    "    x = [0 for _ in range(n)]\n",
    "    x[n - 1] = B[n - 1]\n",
    "    for i in range(n - 2, -1, -1):\n",
    "        x[i] = A[i] * x[i + 1] + B[i]\n",
    "    return x\n",
    "\n",
    "\n",
    "if __name__ == \"__main__\":\n",
    "\n",
    "    if len(sys.argv) != 3:\n",
    "        print(\"use {} <matrix_file> <b_file>\")\n",
    "        exit(0)\n",
    "\n",
    "    matrix_file = sys.argv[1]\n",
    "    b_file = sys.argv[2]\n",
    "\n",
    "    matrix = []\n",
    "    with open('matrix_file2.txt') as m:\n",
    "        for line in m:\n",
    "            matrix.append(list(map(int, line.split())))\n",
    "\n",
    "    b = []\n",
    "    with open('b_file2.txt') as m:\n",
    "        b = list(map(int, m.read().split()))\n",
    "\n",
    "    A, B = forward(matrix, b)\n",
    "    x = list(map(int, back(A, B)))\n",
    "    print(x)"
   ]
  },
  {
   "cell_type": "code",
   "execution_count": null,
   "id": "c902946c",
   "metadata": {},
   "outputs": [],
   "source": []
  }
 ],
 "metadata": {
  "kernelspec": {
   "display_name": "Python 3 (ipykernel)",
   "language": "python",
   "name": "python3"
  },
  "language_info": {
   "codemirror_mode": {
    "name": "ipython",
    "version": 3
   },
   "file_extension": ".py",
   "mimetype": "text/x-python",
   "name": "python",
   "nbconvert_exporter": "python",
   "pygments_lexer": "ipython3",
   "version": "3.9.7"
  }
 },
 "nbformat": 4,
 "nbformat_minor": 5
}

